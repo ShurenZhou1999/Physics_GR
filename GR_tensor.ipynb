{
 "cells": [
  {
   "cell_type": "code",
   "execution_count": 2,
   "metadata": {},
   "outputs": [],
   "source": [
    "'''\n",
    "Author: Shuren Zhou\n",
    "This code references the code by zhiqihuang for the course of General Relativity.\n",
    "The website is http://zhiqihuang.top/gr/lectures.php .\n",
    "'''\n",
    "\n",
    "import numpy as np\n",
    "import sympy as sym\n",
    "import matplotlib.pyplot as plt\n",
    "from IPython.display import Latex\n",
    "from IPython.display import display, Math"
   ]
  },
  {
   "cell_type": "code",
   "execution_count": 3,
   "metadata": {},
   "outputs": [],
   "source": [
    "dim = 4\n",
    "\n",
    "# dimension = 4\n",
    "def product_inner(a, b):\n",
    "    return (a[0]*b[0] + a[1]*b[1] + a[2]*b[2] + a[3]*b[3] )\n"
   ]
  },
  {
   "cell_type": "code",
   "execution_count": 104,
   "metadata": {},
   "outputs": [],
   "source": [
    "\n",
    "'''     some tensor defined in the General relativeity theory    '''\n",
    "\n",
    "# \\g^i_j\n",
    "def Metric_mixed(g_down, g_up):\n",
    "    g_mixed = sym.MutableDenseNDimArray.zeros(dim, dim)\n",
    "    for i in range(dim):\n",
    "        for j in range(dim):\n",
    "            g_mixed[i, j] = product_inner( g_up[i, :], g_down[:, j] )\n",
    "    return g_mixed\n",
    "\n",
    "# \\Gamma_{i, j, k}\n",
    "def Connection_down(g_down, x):\n",
    "    gamma_down = sym.MutableDenseNDimArray.zeros(dim, dim, dim)\n",
    "    for i in range(dim):\n",
    "        for j in range(dim):\n",
    "            for k in range(j+1):\n",
    "                gamma_down[i, j, k] = ( sym.diff(g_down[i, j], x[k]) + sym.diff(g_down[i, k], x[j]) - \\\n",
    "                                       sym.diff(g_down[j, k] , x[i]) )/2\n",
    "                if k != j:\n",
    "                    gamma_down[i, k, j] = gamma_down[i, j, k]\n",
    "    return gamma_down\n",
    "\n",
    "# \\Gamma^i_{j, k}\n",
    "def Connection_mixed(gamma_down, g_up):\n",
    "    gamma_mixed = sym.MutableDenseNDimArray.zeros(dim, dim, dim)\n",
    "    for i in range(dim):\n",
    "        for j in range(dim):\n",
    "            for k in range(j+1):\n",
    "                gamma_mixed[i, j, k] = product_inner( g_up[i, :], gamma_down[:, j, k] )\n",
    "                if k != j:\n",
    "                    gamma_mixed[i, k, j] = gamma_mixed[i, j, k]\n",
    "    return gamma_mixed\n",
    "\n",
    "# \\R^i_{j, k, l}\n",
    "def Riemann_tensor(gamma_mixed, x):\n",
    "    riemann_tensor = sym.MutableDenseNDimArray.zeros(dim, dim, dim, dim)\n",
    "    for i in range(dim):\n",
    "        for j in range(dim):\n",
    "            for k in range(dim):\n",
    "                for l in range(k+1):\n",
    "                    term3 = product_inner(gamma_mixed[:, j, k], gamma_mixed[i, :, l])\n",
    "                    term4 = product_inner(gamma_mixed[:, j, l], gamma_mixed[i, :, k])\n",
    "                    riemann_tensor[i, j, k, l] = sym.diff(gamma_mixed[i, j, k], x[l]) - \\\n",
    "                                    sym.diff(gamma_mixed[i, j, l], x[k]) + term3 - term4\n",
    "                    if l!=k:\n",
    "                        riemann_tensor[i, j, l, k] = - riemann_tensor[i, j, k, l]\n",
    "    return riemann_tensor\n",
    "\n",
    "# \\R_{i, j}\n",
    "def Ricci_down(riemann_tensor):\n",
    "    ricci_down = sym.MutableDenseNDimArray.zeros(dim, dim)\n",
    "    for i in range(dim):\n",
    "        for j in range(dim):\n",
    "            ricci_down[i, j] = riemann_tensor[0, i, j, 0] + riemann_tensor[1, i, j, 1] + \\\n",
    "                                    riemann_tensor[2, i, j, 2] + riemann_tensor[3, i, j, 3]\n",
    "    return ricci_down\n",
    "\n",
    "# \\R^i_j\n",
    "def Ricci_mixed(ricci_down, g_up):\n",
    "    ricci_mixed = sym.MutableDenseNDimArray.zeros(dim, dim)\n",
    "    for i in range(dim):\n",
    "        for j in range(dim):\n",
    "            ricci_mixed[i, j] = product_inner( g_up[i, :], ricci_down[:, j] )\n",
    "    return ricci_mixed\n",
    "\n",
    "# \\R^{i, j}\n",
    "def Ricci_up(ricci_mixed, g_up):\n",
    "    ricci_up = sym.MutableDenseNDimArray.zeros(dim, dim)\n",
    "    for i in range(dim):\n",
    "        for j in range(dim):\n",
    "            ricci_up[i, j] = product_inner( g_up[i, :], ricci_mixed[j, :] )\n",
    "    return ricci_up\n",
    "\n",
    "# R\n",
    "def Ricci_scalar(ricci_down, g_up):\n",
    "    R = 0\n",
    "    for i in range(dim):\n",
    "        for j in range(dim):\n",
    "            R += g_up[i, j]*ricci_down[i, j]\n",
    "    return R\n",
    "\n",
    "# Einstein tensor\n",
    "# G_{i, j}\n",
    "def Einstein_down(ricci_down, R, g_down):\n",
    "    einstein_down = sym.MutableDenseNDimArray.zeros(dim, dim)\n",
    "    for i in range(dim):\n",
    "        for j in range(dim):\n",
    "            einstein_down[i, j] = ricci_down[i, j] - g_down[i, j]*R/2\n",
    "    return einstein_down\n",
    "\n",
    "# G^i_j\n",
    "def Einstein_mixed(ricci_mixed, R, g_mixed):\n",
    "    einstein_mixed = sym.MutableDenseNDimArray.zeros(dim, dim)\n",
    "    for i in range(dim):\n",
    "        for j in range(dim):\n",
    "            einstein_mixed[i, j] = ricci_mixed[i, j] - g_mixed[i, j]*R/2\n",
    "    return einstein_mixed\n",
    "\n"
   ]
  },
  {
   "cell_type": "code",
   "execution_count": 105,
   "metadata": {
    "scrolled": false
   },
   "outputs": [],
   "source": [
    "\n",
    "'''        the standard Einstein field equations        '''\n",
    "\n",
    "def Einstein_equations(Gij, Tij):\n",
    "    G = sym.symbols('G')\n",
    "    count = 0\n",
    "    for ii in range(dim):\n",
    "        for jj in range(ii+1):\n",
    "            equs = Gij[ii, jj] - 8*sym.pi*G*Tij[ii, jj]\n",
    "            equs = sym.simplify(equs)\n",
    "            if equs!= 0:\n",
    "                print('\\n\\n Equation '+str(count)+', for index(i,j) = '+str(ii)+' '+str(jj)+':')\n",
    "                count+=1\n",
    "                display(Math( sym.latex(equs) + r\"\\;\\;=\\;\\; 0\" ))\n"
   ]
  },
  {
   "cell_type": "code",
   "execution_count": 134,
   "metadata": {
    "scrolled": false
   },
   "outputs": [],
   "source": [
    "\n",
    "\n",
    "def Print_Connection(gamma_mixed, style = 0):\n",
    "    print('\\n')\n",
    "    display(Math(r'Connection \\,\\, \\Gamma^{i}_{\\,jk} \\, :'))\n",
    "    for ii in range(dim):\n",
    "        for jj in range(dim):\n",
    "            for kk in range(jj+1):\n",
    "                if gamma_mixed[ii, jj, kk] != 0:\n",
    "                    if style == 0:\n",
    "                        display(Math(  r'\\Gamma ^{\\,'+str(ii)+ '}_{\\,\\,' +str(jj)+' ' +str(kk)+'}\\:\\,\\,=\\;\\,' + str(sym.simplify(gamma_mixed[ii, jj, kk]))  ))\n",
    "                    else:\n",
    "                        display(Math(  r'\\Gamma ^{\\,'+str(ii)+ '}_{\\,\\,' +str(jj)+' ' +str(kk)+'}\\;\\;=' ))\n",
    "                        display(sym.simplify(gamma_mixed[ii, jj, kk]) )\n",
    "\n",
    "def Print_Ricci_tensor(ricci_mixed):\n",
    "    print('\\n')\n",
    "    display(Math(r'Ricci \\;tensor \\,\\, R^{i}_{\\,j} \\, :'))\n",
    "    for ii in range(dim):\n",
    "        for jj in range(ii+1):\n",
    "            if ricci_mixed[ii, jj] != 0:\n",
    "                #display(Math(  r' R ^'+str(ii)+ '_{\\;' +str(jj) +'}\\:\\,\\,=\\;\\,' + str(sym.simplify(ricci_mixed[ii, jj]))  ))\n",
    "                display(Math(  r' R ^'+str(ii)+ '_{\\;' +str(jj) +'} ' ) )\n",
    "                display(sym.simplify(ricci_mixed[ii, jj]) )\n",
    "            \n",
    "def Print_Ricci_scalar(R):\n",
    "    print('\\n\\nRicci scalar, R =  ')            \n",
    "    display(sym.simplify(R))\n",
    "    \n",
    "def Print_Einstein_tensor(einstein_mixed):\n",
    "    print('\\n')\n",
    "    display(Math(r'Einstein \\;tensor \\,\\, G^{i}_{\\,j} \\, :'))\n",
    "    for ii in range(dim):\n",
    "        for jj in range(ii+1):\n",
    "            if einstein_mixed[ii, jj] != 0:\n",
    "                #display(Math(  r' G ^'+str(ii)+ '_{\\;' +str(jj) +'}\\:\\,\\,=\\;\\,' + str(sym.simplify(einstein_mixed[ii, jj]))  ))\n",
    "                display(Math(  r' G ^'+str(ii)+ '_{\\;' +str(jj) +'} ' ) )\n",
    "                display(sym.simplify(einstein_mixed[ii, jj]) )\n"
   ]
  },
  {
   "cell_type": "code",
   "execution_count": 107,
   "metadata": {
    "scrolled": true
   },
   "outputs": [],
   "source": [
    "\n",
    "\n",
    "class GR_tensor:\n",
    "    \n",
    "    def __init__(self, x, g_down):\n",
    "        \n",
    "        # coordinate\n",
    "        self.x = x\n",
    "        \n",
    "        # \\g_{i, j}\n",
    "        self.g_down = g_down\n",
    "        \n",
    "        # \\g^{i, j}\n",
    "        self.g_up = g_down**(-1)\n",
    "\n",
    "        # \\g^i_j\n",
    "        self.g_mixed = Metric_mixed(self.g_down, self.g_up)\n",
    "\n",
    "        # \\Gamma_{i, j, k}\n",
    "        self.gamma_down = Connection_down(self.g_down, x)\n",
    "\n",
    "        # \\Gamma^i_{j, k}\n",
    "        self.gamma_mixed = Connection_mixed(self.gamma_down, self.g_up)\n",
    "\n",
    "        # \\R^i_{j, k, l}\n",
    "        self.riemann_tensor = Riemann_tensor(self.gamma_mixed, x)\n",
    "\n",
    "        # \\R_{i, j}\n",
    "        self.ricci_down = Ricci_down(self.riemann_tensor)\n",
    "\n",
    "        # \\R^i_j\n",
    "        self.ricci_mixed = Ricci_mixed(self.ricci_down, self.g_up)\n",
    "\n",
    "        # \\R^{i, j}\n",
    "        self.ricci_up = Ricci_up(self.ricci_mixed, self.g_up)\n",
    "\n",
    "        # R\n",
    "        ricci_scalar = Ricci_scalar(self.ricci_down, self.g_up)\n",
    "        self.ricci_scalar = sym.simplify(ricci_scalar)\n",
    "\n",
    "        # \\G_{i, j}\n",
    "        self.einstein_down = Einstein_down(self.ricci_down, self.ricci_scalar, self.g_down)\n",
    "\n",
    "        # \\G^{i}_{j}\n",
    "        self.einstein_mixed = Einstein_mixed(self.ricci_mixed, self.ricci_scalar, self.g_mixed)\n",
    "        \n",
    "    def print_Connection(self):\n",
    "        Print_Connection(self.gamma_mixed)\n",
    "        \n",
    "    def print_Ricci_tensor(self):\n",
    "        Print_Ricci_tensor(self.ricci_mixed)\n",
    "        \n",
    "    def print_Ricci_scalar(self):\n",
    "        Print_Ricci_scalar(self.ricci_scalar)\n",
    "        \n",
    "    def print_Einstein_tensor(self):\n",
    "        Print_Einstein_tensor(self.einstein_mixed)\n",
    "        \n",
    "    def print_Einstein_equations(self, Tij):\n",
    "        Einstein_equations(self.einstein_down, Tij)\n",
    "\n",
    "\n"
   ]
  },
  {
   "cell_type": "code",
   "execution_count": 126,
   "metadata": {},
   "outputs": [],
   "source": [
    "\n",
    "t, r, theta, phi = sym.symbols('t, r, theta, phi')\n",
    "k, G, M = sym.symbols('k, G, M')\n",
    "GM = G*M\n",
    "x = [t, r, theta, phi]\n",
    "\n",
    "\n",
    "'''                          metric                             '''\n",
    "\n",
    "#########################  FRW metric  ######################### \n",
    "a = sym.Function('a' )\n",
    "g_down1 = sym.diag( 1, -a(x[0])**2/(1-k*r**2), -a(x[0])**2 *r**2, -a(x[0])**2 *r**2 *sym.sin(theta)**2)\n",
    "\n",
    "################# spherical symmetric metric ###################\n",
    "g_down2 = sym.diag(1-2*GM/r, 1/(1-2*GM/r), -r**2, -r**2*sym.sin(theta))\n",
    "\n",
    "##################### Schwarzschild metric #####################\n",
    "Phi = sym.Function('Phi')\n",
    "Psi = sym.Function('Psi')\n",
    "g_down3 = sym.diag( sym.exp(2*Phi(x[0], x[1])), -sym.exp(-2*Psi(x[0], x[1])) , -x[1]**2, -x[1]**2 *sym.sin(x[2]) **2 )\n",
    "\n",
    "######################   Kerr black hole  ######################\n",
    "J = sym.symbols('J')\n",
    "rho_squared = r**2 + J**2 *sym.cos(theta)**2\n",
    "Delta = r**2 - 2*r*GM + J**2\n",
    "g_down4 = sym.diag( 1-2*GM*r/rho_squared, -rho_squared/Delta, -rho_squared,  \\\n",
    "                  -(r**2 +J**2 +2*GM*r*J**2*sym.sin(theta)**2/rho_squared)*sym.sin(theta)**2)\n",
    "g_down4[3, 0] = 2*GM*r*J*sym.sin(theta)**2/rho_squared\n",
    "g_down4[0, 3] = g_down4[3, 0]\n",
    "\n",
    "#################  Kerr black hole with charge  ###############\n",
    "Q = sym.symbols('Q')\n",
    "Delta += G*Q**2\n",
    "g_down5 = sym.diag( 1-2*GM*r/rho_squared, -rho_squared/Delta, -rho_squared,  \\\n",
    "                  -(r**2 +J**2 +2*GM*r*J**2*sym.sin(theta)**2/rho_squared)*sym.sin(theta)**2)\n",
    "g_down5[3, 0] = 2*GM*r*J*sym.sin(theta)**2/rho_squared\n",
    "g_down5[0, 3] = g_down5[3, 0]\n",
    "\n",
    "\n",
    "'''                     Energy Momentum tensor                  '''\n",
    "    \n",
    "#########################  ideal fluid, in covming coordinate  #########################\n",
    "rho, p = sym.symbols('rho, p')\n",
    "Tij = sym.diag(rho, p, p, p)\n",
    "\n"
   ]
  },
  {
   "cell_type": "code",
   "execution_count": 109,
   "metadata": {
    "scrolled": true
   },
   "outputs": [
    {
     "name": "stdout",
     "output_type": "stream",
     "text": [
      "\n",
      "\n"
     ]
    },
    {
     "data": {
      "text/latex": [
       "$\\displaystyle Connection \\,\\, \\Gamma^{i}_{\\,jk} \\, :$"
      ],
      "text/plain": [
       "<IPython.core.display.Math object>"
      ]
     },
     "metadata": {},
     "output_type": "display_data"
    },
    {
     "data": {
      "text/latex": [
       "$\\displaystyle \\Gamma ^{\\,0}_{\\,\\,1 1}\\:\\,\\,=\\;\\,-a(t)*Derivative(a(t), t)/(k*r**2 - 1)$"
      ],
      "text/plain": [
       "<IPython.core.display.Math object>"
      ]
     },
     "metadata": {},
     "output_type": "display_data"
    },
    {
     "data": {
      "text/latex": [
       "$\\displaystyle \\Gamma ^{\\,0}_{\\,\\,2 2}\\:\\,\\,=\\;\\,r**2*a(t)*Derivative(a(t), t)$"
      ],
      "text/plain": [
       "<IPython.core.display.Math object>"
      ]
     },
     "metadata": {},
     "output_type": "display_data"
    },
    {
     "data": {
      "text/latex": [
       "$\\displaystyle \\Gamma ^{\\,0}_{\\,\\,3 3}\\:\\,\\,=\\;\\,r**2*a(t)*sin(theta)**2*Derivative(a(t), t)$"
      ],
      "text/plain": [
       "<IPython.core.display.Math object>"
      ]
     },
     "metadata": {},
     "output_type": "display_data"
    },
    {
     "data": {
      "text/latex": [
       "$\\displaystyle \\Gamma ^{\\,1}_{\\,\\,1 0}\\:\\,\\,=\\;\\,Derivative(a(t), t)/a(t)$"
      ],
      "text/plain": [
       "<IPython.core.display.Math object>"
      ]
     },
     "metadata": {},
     "output_type": "display_data"
    },
    {
     "data": {
      "text/latex": [
       "$\\displaystyle \\Gamma ^{\\,1}_{\\,\\,1 1}\\:\\,\\,=\\;\\,-k*r/(k*r**2 - 1)$"
      ],
      "text/plain": [
       "<IPython.core.display.Math object>"
      ]
     },
     "metadata": {},
     "output_type": "display_data"
    },
    {
     "data": {
      "text/latex": [
       "$\\displaystyle \\Gamma ^{\\,1}_{\\,\\,2 2}\\:\\,\\,=\\;\\,k*r**3 - r$"
      ],
      "text/plain": [
       "<IPython.core.display.Math object>"
      ]
     },
     "metadata": {},
     "output_type": "display_data"
    },
    {
     "data": {
      "text/latex": [
       "$\\displaystyle \\Gamma ^{\\,1}_{\\,\\,3 3}\\:\\,\\,=\\;\\,r*(k*r**2 - 1)*sin(theta)**2$"
      ],
      "text/plain": [
       "<IPython.core.display.Math object>"
      ]
     },
     "metadata": {},
     "output_type": "display_data"
    },
    {
     "data": {
      "text/latex": [
       "$\\displaystyle \\Gamma ^{\\,2}_{\\,\\,2 0}\\:\\,\\,=\\;\\,Derivative(a(t), t)/a(t)$"
      ],
      "text/plain": [
       "<IPython.core.display.Math object>"
      ]
     },
     "metadata": {},
     "output_type": "display_data"
    },
    {
     "data": {
      "text/latex": [
       "$\\displaystyle \\Gamma ^{\\,2}_{\\,\\,2 1}\\:\\,\\,=\\;\\,1/r$"
      ],
      "text/plain": [
       "<IPython.core.display.Math object>"
      ]
     },
     "metadata": {},
     "output_type": "display_data"
    },
    {
     "data": {
      "text/latex": [
       "$\\displaystyle \\Gamma ^{\\,2}_{\\,\\,3 3}\\:\\,\\,=\\;\\,-sin(2*theta)/2$"
      ],
      "text/plain": [
       "<IPython.core.display.Math object>"
      ]
     },
     "metadata": {},
     "output_type": "display_data"
    },
    {
     "data": {
      "text/latex": [
       "$\\displaystyle \\Gamma ^{\\,3}_{\\,\\,3 0}\\:\\,\\,=\\;\\,Derivative(a(t), t)/a(t)$"
      ],
      "text/plain": [
       "<IPython.core.display.Math object>"
      ]
     },
     "metadata": {},
     "output_type": "display_data"
    },
    {
     "data": {
      "text/latex": [
       "$\\displaystyle \\Gamma ^{\\,3}_{\\,\\,3 1}\\:\\,\\,=\\;\\,1/r$"
      ],
      "text/plain": [
       "<IPython.core.display.Math object>"
      ]
     },
     "metadata": {},
     "output_type": "display_data"
    },
    {
     "data": {
      "text/latex": [
       "$\\displaystyle \\Gamma ^{\\,3}_{\\,\\,3 2}\\:\\,\\,=\\;\\,1/tan(theta)$"
      ],
      "text/plain": [
       "<IPython.core.display.Math object>"
      ]
     },
     "metadata": {},
     "output_type": "display_data"
    },
    {
     "name": "stdout",
     "output_type": "stream",
     "text": [
      "\n",
      "\n"
     ]
    },
    {
     "data": {
      "text/latex": [
       "$\\displaystyle Ricci \\;tensor \\,\\, R^{i}_{\\,j} \\, :$"
      ],
      "text/plain": [
       "<IPython.core.display.Math object>"
      ]
     },
     "metadata": {},
     "output_type": "display_data"
    },
    {
     "data": {
      "text/latex": [
       "$\\displaystyle  R ^0_{\\;0} $"
      ],
      "text/plain": [
       "<IPython.core.display.Math object>"
      ]
     },
     "metadata": {},
     "output_type": "display_data"
    },
    {
     "data": {
      "text/latex": [
       "$\\displaystyle - \\frac{3 \\frac{d^{2}}{d t^{2}} a{\\left(t \\right)}}{a{\\left(t \\right)}}$"
      ],
      "text/plain": [
       "-3*Derivative(a(t), (t, 2))/a(t)"
      ]
     },
     "metadata": {},
     "output_type": "display_data"
    },
    {
     "data": {
      "text/latex": [
       "$\\displaystyle  R ^1_{\\;1} $"
      ],
      "text/plain": [
       "<IPython.core.display.Math object>"
      ]
     },
     "metadata": {},
     "output_type": "display_data"
    },
    {
     "data": {
      "text/latex": [
       "$\\displaystyle - \\frac{2 k + a{\\left(t \\right)} \\frac{d^{2}}{d t^{2}} a{\\left(t \\right)} + 2 \\left(\\frac{d}{d t} a{\\left(t \\right)}\\right)^{2}}{a^{2}{\\left(t \\right)}}$"
      ],
      "text/plain": [
       "-(2*k + a(t)*Derivative(a(t), (t, 2)) + 2*Derivative(a(t), t)**2)/a(t)**2"
      ]
     },
     "metadata": {},
     "output_type": "display_data"
    },
    {
     "data": {
      "text/latex": [
       "$\\displaystyle  R ^2_{\\;2} $"
      ],
      "text/plain": [
       "<IPython.core.display.Math object>"
      ]
     },
     "metadata": {},
     "output_type": "display_data"
    },
    {
     "data": {
      "text/latex": [
       "$\\displaystyle - \\frac{2 k + a{\\left(t \\right)} \\frac{d^{2}}{d t^{2}} a{\\left(t \\right)} + 2 \\left(\\frac{d}{d t} a{\\left(t \\right)}\\right)^{2}}{a^{2}{\\left(t \\right)}}$"
      ],
      "text/plain": [
       "-(2*k + a(t)*Derivative(a(t), (t, 2)) + 2*Derivative(a(t), t)**2)/a(t)**2"
      ]
     },
     "metadata": {},
     "output_type": "display_data"
    },
    {
     "data": {
      "text/latex": [
       "$\\displaystyle  R ^3_{\\;3} $"
      ],
      "text/plain": [
       "<IPython.core.display.Math object>"
      ]
     },
     "metadata": {},
     "output_type": "display_data"
    },
    {
     "data": {
      "text/latex": [
       "$\\displaystyle - \\frac{2 k + a{\\left(t \\right)} \\frac{d^{2}}{d t^{2}} a{\\left(t \\right)} + 2 \\left(\\frac{d}{d t} a{\\left(t \\right)}\\right)^{2}}{a^{2}{\\left(t \\right)}}$"
      ],
      "text/plain": [
       "-(2*k + a(t)*Derivative(a(t), (t, 2)) + 2*Derivative(a(t), t)**2)/a(t)**2"
      ]
     },
     "metadata": {},
     "output_type": "display_data"
    },
    {
     "name": "stdout",
     "output_type": "stream",
     "text": [
      "\n",
      "\n",
      "Ricci scalar, R =  \n"
     ]
    },
    {
     "data": {
      "text/latex": [
       "$\\displaystyle - \\frac{6 k + 6 a{\\left(t \\right)} \\frac{d^{2}}{d t^{2}} a{\\left(t \\right)} + 6 \\left(\\frac{d}{d t} a{\\left(t \\right)}\\right)^{2}}{a^{2}{\\left(t \\right)}}$"
      ],
      "text/plain": [
       "-(6*k + 6*a(t)*Derivative(a(t), (t, 2)) + 6*Derivative(a(t), t)**2)/a(t)**2"
      ]
     },
     "metadata": {},
     "output_type": "display_data"
    }
   ],
   "source": [
    "gr1 = GR_tensor(x, g_down1)\n",
    "gr1.print_Connection()\n",
    "gr1.print_Ricci_tensor()\n",
    "gr1.print_Ricci_scalar()"
   ]
  },
  {
   "cell_type": "code",
   "execution_count": 133,
   "metadata": {},
   "outputs": [
    {
     "name": "stdout",
     "output_type": "stream",
     "text": [
      "\n",
      "FRW metric, Einstein equations : \n",
      "\n",
      "\n",
      "\n",
      " Equation 0, for index(i,j) = 0 0:\n"
     ]
    },
    {
     "data": {
      "text/latex": [
       "$\\displaystyle \\frac{- 8 \\pi G \\rho a^{2}{\\left(t \\right)} + 3 k + 3 \\left(\\frac{d}{d t} a{\\left(t \\right)}\\right)^{2}}{a^{2}{\\left(t \\right)}}\\;\\;=\\;\\; 0$"
      ],
      "text/plain": [
       "<IPython.core.display.Math object>"
      ]
     },
     "metadata": {},
     "output_type": "display_data"
    },
    {
     "name": "stdout",
     "output_type": "stream",
     "text": [
      "\n",
      "\n",
      " Equation 1, for index(i,j) = 1 1:\n"
     ]
    },
    {
     "data": {
      "text/latex": [
       "$\\displaystyle \\frac{- 8 \\pi G p \\left(k r^{2} - 1\\right) + k + 2 a{\\left(t \\right)} \\frac{d^{2}}{d t^{2}} a{\\left(t \\right)} + \\left(\\frac{d}{d t} a{\\left(t \\right)}\\right)^{2}}{k r^{2} - 1}\\;\\;=\\;\\; 0$"
      ],
      "text/plain": [
       "<IPython.core.display.Math object>"
      ]
     },
     "metadata": {},
     "output_type": "display_data"
    },
    {
     "name": "stdout",
     "output_type": "stream",
     "text": [
      "\n",
      "\n",
      " Equation 2, for index(i,j) = 2 2:\n"
     ]
    },
    {
     "data": {
      "text/latex": [
       "$\\displaystyle - 8 \\pi G p - k r^{2} - 2 r^{2} a{\\left(t \\right)} \\frac{d^{2}}{d t^{2}} a{\\left(t \\right)} - r^{2} \\left(\\frac{d}{d t} a{\\left(t \\right)}\\right)^{2}\\;\\;=\\;\\; 0$"
      ],
      "text/plain": [
       "<IPython.core.display.Math object>"
      ]
     },
     "metadata": {},
     "output_type": "display_data"
    },
    {
     "name": "stdout",
     "output_type": "stream",
     "text": [
      "\n",
      "\n",
      " Equation 3, for index(i,j) = 3 3:\n"
     ]
    },
    {
     "data": {
      "text/latex": [
       "$\\displaystyle - 8 \\pi G p - k r^{2} \\sin^{2}{\\left(\\theta \\right)} - 2 r^{2} a{\\left(t \\right)} \\sin^{2}{\\left(\\theta \\right)} \\frac{d^{2}}{d t^{2}} a{\\left(t \\right)} - r^{2} \\sin^{2}{\\left(\\theta \\right)} \\left(\\frac{d}{d t} a{\\left(t \\right)}\\right)^{2}\\;\\;=\\;\\; 0$"
      ],
      "text/plain": [
       "<IPython.core.display.Math object>"
      ]
     },
     "metadata": {},
     "output_type": "display_data"
    }
   ],
   "source": [
    "print('\\nFRW metric, Einstein equations : \\n')\n",
    "gr1.print_Einstein_equations(Tij)"
   ]
  },
  {
   "cell_type": "code",
   "execution_count": 111,
   "metadata": {},
   "outputs": [
    {
     "data": {
      "text/plain": [
       "'\\\\left[\\\\begin{matrix}- \\\\frac{3 \\\\frac{d^{2}}{d t^{2}} a{\\\\left(t \\\\right)}}{a{\\\\left(t \\\\right)}} & 0 & 0 & 0\\\\\\\\0 & - \\\\frac{\\\\left(- k r^{2} + 1\\\\right) \\\\left(\\\\frac{2 k}{- k r^{2} + 1} + \\\\frac{a{\\\\left(t \\\\right)} \\\\frac{d^{2}}{d t^{2}} a{\\\\left(t \\\\right)}}{- k r^{2} + 1} + \\\\frac{2 \\\\left(\\\\frac{d}{d t} a{\\\\left(t \\\\right)}\\\\right)^{2}}{- k r^{2} + 1}\\\\right)}{a^{2}{\\\\left(t \\\\right)}} & 0 & 0\\\\\\\\0 & 0 & - \\\\frac{2 k r^{2} + r^{2} a{\\\\left(t \\\\right)} \\\\frac{d^{2}}{d t^{2}} a{\\\\left(t \\\\right)} + 2 r^{2} \\\\left(\\\\frac{d}{d t} a{\\\\left(t \\\\right)}\\\\right)^{2}}{r^{2} a^{2}{\\\\left(t \\\\right)}} & 0\\\\\\\\0 & 0 & 0 & - \\\\frac{k r^{2} \\\\sin^{2}{\\\\left(\\\\theta \\\\right)} + r^{2} a{\\\\left(t \\\\right)} \\\\sin^{2}{\\\\left(\\\\theta \\\\right)} \\\\frac{d^{2}}{d t^{2}} a{\\\\left(t \\\\right)} + 2 r^{2} \\\\sin^{2}{\\\\left(\\\\theta \\\\right)} \\\\left(\\\\frac{d}{d t} a{\\\\left(t \\\\right)}\\\\right)^{2} - \\\\left(- k r^{2} + 1\\\\right) \\\\sin^{2}{\\\\left(\\\\theta \\\\right)} + \\\\sin^{2}{\\\\left(\\\\theta \\\\right)}}{r^{2} a^{2}{\\\\left(t \\\\right)} \\\\sin^{2}{\\\\left(\\\\theta \\\\right)}}\\\\end{matrix}\\\\right]'"
      ]
     },
     "execution_count": 111,
     "metadata": {},
     "output_type": "execute_result"
    }
   ],
   "source": [
    "sym.latex(gr1.ricci_mixed)"
   ]
  },
  {
   "cell_type": "code",
   "execution_count": 128,
   "metadata": {
    "scrolled": false
   },
   "outputs": [
    {
     "data": {
      "text/latex": [
       "$\\displaystyle \\left[\\begin{matrix}- \\frac{2 G M r}{J^{2} \\cos^{2}{\\left(\\theta \\right)} + r^{2}} + 1 & 0 & 0 & \\frac{2 G J M r \\sin^{2}{\\left(\\theta \\right)}}{J^{2} \\cos^{2}{\\left(\\theta \\right)} + r^{2}}\\\\0 & \\frac{- J^{2} \\cos^{2}{\\left(\\theta \\right)} - r^{2}}{- 2 G M r + J^{2} + r^{2}} & 0 & 0\\\\0 & 0 & - J^{2} \\cos^{2}{\\left(\\theta \\right)} - r^{2} & 0\\\\\\frac{2 G J M r \\sin^{2}{\\left(\\theta \\right)}}{J^{2} \\cos^{2}{\\left(\\theta \\right)} + r^{2}} & 0 & 0 & \\left(- \\frac{2 G J^{2} M r \\sin^{2}{\\left(\\theta \\right)}}{J^{2} \\cos^{2}{\\left(\\theta \\right)} + r^{2}} - J^{2} - r^{2}\\right) \\sin^{2}{\\left(\\theta \\right)}\\end{matrix}\\right]$"
      ],
      "text/plain": [
       "Matrix([\n",
       "[           -2*G*M*r/(J**2*cos(theta)**2 + r**2) + 1,                                                     0,                          0,                                   2*G*J*M*r*sin(theta)**2/(J**2*cos(theta)**2 + r**2)],\n",
       "[                                                  0, (-J**2*cos(theta)**2 - r**2)/(-2*G*M*r + J**2 + r**2),                          0,                                                                                     0],\n",
       "[                                                  0,                                                     0, -J**2*cos(theta)**2 - r**2,                                                                                     0],\n",
       "[2*G*J*M*r*sin(theta)**2/(J**2*cos(theta)**2 + r**2),                                                     0,                          0, (-2*G*J**2*M*r*sin(theta)**2/(J**2*cos(theta)**2 + r**2) - J**2 - r**2)*sin(theta)**2]])"
      ]
     },
     "metadata": {},
     "output_type": "display_data"
    },
    {
     "data": {
      "text/latex": [
       "$\\displaystyle \\left[\\begin{matrix}- \\frac{2 G M r}{J^{2} \\cos^{2}{\\left(\\theta \\right)} + r^{2}} + 1 & 0 & 0 & \\frac{2 G J M r \\sin^{2}{\\left(\\theta \\right)}}{J^{2} \\cos^{2}{\\left(\\theta \\right)} + r^{2}}\\\\0 & \\frac{- J^{2} \\cos^{2}{\\left(\\theta \\right)} - r^{2}}{- 2 G M r + G Q^{2} + J^{2} + r^{2}} & 0 & 0\\\\0 & 0 & - J^{2} \\cos^{2}{\\left(\\theta \\right)} - r^{2} & 0\\\\\\frac{2 G J M r \\sin^{2}{\\left(\\theta \\right)}}{J^{2} \\cos^{2}{\\left(\\theta \\right)} + r^{2}} & 0 & 0 & \\left(- \\frac{2 G J^{2} M r \\sin^{2}{\\left(\\theta \\right)}}{J^{2} \\cos^{2}{\\left(\\theta \\right)} + r^{2}} - J^{2} - r^{2}\\right) \\sin^{2}{\\left(\\theta \\right)}\\end{matrix}\\right]$"
      ],
      "text/plain": [
       "Matrix([\n",
       "[           -2*G*M*r/(J**2*cos(theta)**2 + r**2) + 1,                                                              0,                          0,                                   2*G*J*M*r*sin(theta)**2/(J**2*cos(theta)**2 + r**2)],\n",
       "[                                                  0, (-J**2*cos(theta)**2 - r**2)/(-2*G*M*r + G*Q**2 + J**2 + r**2),                          0,                                                                                     0],\n",
       "[                                                  0,                                                              0, -J**2*cos(theta)**2 - r**2,                                                                                     0],\n",
       "[2*G*J*M*r*sin(theta)**2/(J**2*cos(theta)**2 + r**2),                                                              0,                          0, (-2*G*J**2*M*r*sin(theta)**2/(J**2*cos(theta)**2 + r**2) - J**2 - r**2)*sin(theta)**2]])"
      ]
     },
     "metadata": {},
     "output_type": "display_data"
    }
   ],
   "source": [
    "display(g_down4)\n",
    "display(g_down5)"
   ]
  },
  {
   "cell_type": "code",
   "execution_count": 123,
   "metadata": {},
   "outputs": [],
   "source": [
    "#gr4 = GR_tensor(x, g_down4)"
   ]
  },
  {
   "cell_type": "code",
   "execution_count": 124,
   "metadata": {},
   "outputs": [],
   "source": [
    "gamma_kerr_down = Connection_down(g_down4, x)\n",
    "gamma_kerr_mixed = Connection_mixed(gamma_kerr_down, g_down4**(-1))"
   ]
  },
  {
   "cell_type": "code",
   "execution_count": 135,
   "metadata": {},
   "outputs": [
    {
     "name": "stdout",
     "output_type": "stream",
     "text": [
      "Kerr black hole, the connection :\n",
      "\n",
      "\n"
     ]
    },
    {
     "data": {
      "text/latex": [
       "$\\displaystyle Connection \\,\\, \\Gamma^{i}_{\\,jk} \\, :$"
      ],
      "text/plain": [
       "<IPython.core.display.Math object>"
      ]
     },
     "metadata": {},
     "output_type": "display_data"
    },
    {
     "data": {
      "text/latex": [
       "$\\displaystyle \\Gamma ^{\\,0}_{\\,\\,1 0}\\;\\;=$"
      ],
      "text/plain": [
       "<IPython.core.display.Math object>"
      ]
     },
     "metadata": {},
     "output_type": "display_data"
    },
    {
     "data": {
      "text/latex": [
       "$\\displaystyle \\frac{G M \\left(J^{2} + r^{2}\\right) \\left(- J^{2} \\cos^{2}{\\left(\\theta \\right)} + r^{2}\\right)}{\\left(J^{2} \\cos^{2}{\\left(\\theta \\right)} + r^{2}\\right)^{2} \\left(- 2 G M r + J^{2} + r^{2}\\right)}$"
      ],
      "text/plain": [
       "G*M*(J**2 + r**2)*(-J**2*cos(theta)**2 + r**2)/((J**2*cos(theta)**2 + r**2)**2*(-2*G*M*r + J**2 + r**2))"
      ]
     },
     "metadata": {},
     "output_type": "display_data"
    },
    {
     "data": {
      "text/latex": [
       "$\\displaystyle \\Gamma ^{\\,0}_{\\,\\,2 0}\\;\\;=$"
      ],
      "text/plain": [
       "<IPython.core.display.Math object>"
      ]
     },
     "metadata": {},
     "output_type": "display_data"
    },
    {
     "data": {
      "text/latex": [
       "$\\displaystyle - \\frac{4 G J^{2} M r \\sin{\\left(2 \\theta \\right)}}{\\left(J^{2} \\cos{\\left(2 \\theta \\right)} + J^{2} + 2 r^{2}\\right)^{2}}$"
      ],
      "text/plain": [
       "-4*G*J**2*M*r*sin(2*theta)/(J**2*cos(2*theta) + J**2 + 2*r**2)**2"
      ]
     },
     "metadata": {},
     "output_type": "display_data"
    },
    {
     "data": {
      "text/latex": [
       "$\\displaystyle \\Gamma ^{\\,0}_{\\,\\,3 1}\\;\\;=$"
      ],
      "text/plain": [
       "<IPython.core.display.Math object>"
      ]
     },
     "metadata": {},
     "output_type": "display_data"
    },
    {
     "data": {
      "text/latex": [
       "$\\displaystyle - \\frac{G J M \\left(- J^{4} \\cos^{2}{\\left(\\theta \\right)} + J^{2} r^{2} \\cos^{2}{\\left(\\theta \\right)} + J^{2} r^{2} + 3 r^{4}\\right) \\sin^{2}{\\left(\\theta \\right)}}{\\left(J^{2} \\cos^{2}{\\left(\\theta \\right)} + r^{2}\\right)^{2} \\left(- 2 G M r + J^{2} + r^{2}\\right)}$"
      ],
      "text/plain": [
       "-G*J*M*(-J**4*cos(theta)**2 + J**2*r**2*cos(theta)**2 + J**2*r**2 + 3*r**4)*sin(theta)**2/((J**2*cos(theta)**2 + r**2)**2*(-2*G*M*r + J**2 + r**2))"
      ]
     },
     "metadata": {},
     "output_type": "display_data"
    },
    {
     "data": {
      "text/latex": [
       "$\\displaystyle \\Gamma ^{\\,0}_{\\,\\,3 2}\\;\\;=$"
      ],
      "text/plain": [
       "<IPython.core.display.Math object>"
      ]
     },
     "metadata": {},
     "output_type": "display_data"
    },
    {
     "data": {
      "text/latex": [
       "$\\displaystyle \\frac{2 G J^{3} M r \\sin^{3}{\\left(\\theta \\right)} \\cos{\\left(\\theta \\right)}}{\\left(J^{2} \\cos^{2}{\\left(\\theta \\right)} + r^{2}\\right)^{2}}$"
      ],
      "text/plain": [
       "2*G*J**3*M*r*sin(theta)**3*cos(theta)/(J**2*cos(theta)**2 + r**2)**2"
      ]
     },
     "metadata": {},
     "output_type": "display_data"
    },
    {
     "data": {
      "text/latex": [
       "$\\displaystyle \\Gamma ^{\\,1}_{\\,\\,0 0}\\;\\;=$"
      ],
      "text/plain": [
       "<IPython.core.display.Math object>"
      ]
     },
     "metadata": {},
     "output_type": "display_data"
    },
    {
     "data": {
      "text/latex": [
       "$\\displaystyle \\frac{G M \\left(- J^{2} \\cos^{2}{\\left(\\theta \\right)} + r^{2}\\right) \\left(- 2 G M r + J^{2} + r^{2}\\right)}{\\left(J^{2} \\cos^{2}{\\left(\\theta \\right)} + r^{2}\\right)^{3}}$"
      ],
      "text/plain": [
       "G*M*(-J**2*cos(theta)**2 + r**2)*(-2*G*M*r + J**2 + r**2)/(J**2*cos(theta)**2 + r**2)**3"
      ]
     },
     "metadata": {},
     "output_type": "display_data"
    },
    {
     "data": {
      "text/latex": [
       "$\\displaystyle \\Gamma ^{\\,1}_{\\,\\,1 1}\\;\\;=$"
      ],
      "text/plain": [
       "<IPython.core.display.Math object>"
      ]
     },
     "metadata": {},
     "output_type": "display_data"
    },
    {
     "data": {
      "text/latex": [
       "$\\displaystyle \\frac{r \\left(- 2 G M r + J^{2} + r^{2}\\right) + \\left(G M - r\\right) \\left(J^{2} \\cos^{2}{\\left(\\theta \\right)} + r^{2}\\right)}{\\left(J^{2} \\cos^{2}{\\left(\\theta \\right)} + r^{2}\\right) \\left(- 2 G M r + J^{2} + r^{2}\\right)}$"
      ],
      "text/plain": [
       "(r*(-2*G*M*r + J**2 + r**2) + (G*M - r)*(J**2*cos(theta)**2 + r**2))/((J**2*cos(theta)**2 + r**2)*(-2*G*M*r + J**2 + r**2))"
      ]
     },
     "metadata": {},
     "output_type": "display_data"
    },
    {
     "data": {
      "text/latex": [
       "$\\displaystyle \\Gamma ^{\\,1}_{\\,\\,2 1}\\;\\;=$"
      ],
      "text/plain": [
       "<IPython.core.display.Math object>"
      ]
     },
     "metadata": {},
     "output_type": "display_data"
    },
    {
     "data": {
      "text/latex": [
       "$\\displaystyle - \\frac{J^{2} \\sin{\\left(2 \\theta \\right)}}{J^{2} \\cos{\\left(2 \\theta \\right)} + J^{2} + 2 r^{2}}$"
      ],
      "text/plain": [
       "-J**2*sin(2*theta)/(J**2*cos(2*theta) + J**2 + 2*r**2)"
      ]
     },
     "metadata": {},
     "output_type": "display_data"
    },
    {
     "data": {
      "text/latex": [
       "$\\displaystyle \\Gamma ^{\\,1}_{\\,\\,2 2}\\;\\;=$"
      ],
      "text/plain": [
       "<IPython.core.display.Math object>"
      ]
     },
     "metadata": {},
     "output_type": "display_data"
    },
    {
     "data": {
      "text/latex": [
       "$\\displaystyle - \\frac{r \\left(- 2 G M r + J^{2} + r^{2}\\right)}{J^{2} \\cos^{2}{\\left(\\theta \\right)} + r^{2}}$"
      ],
      "text/plain": [
       "-r*(-2*G*M*r + J**2 + r**2)/(J**2*cos(theta)**2 + r**2)"
      ]
     },
     "metadata": {},
     "output_type": "display_data"
    },
    {
     "data": {
      "text/latex": [
       "$\\displaystyle \\Gamma ^{\\,1}_{\\,\\,3 0}\\;\\;=$"
      ],
      "text/plain": [
       "<IPython.core.display.Math object>"
      ]
     },
     "metadata": {},
     "output_type": "display_data"
    },
    {
     "data": {
      "text/latex": [
       "$\\displaystyle \\frac{G J M \\left(J^{2} \\cos^{2}{\\left(\\theta \\right)} - r^{2}\\right) \\left(- 2 G M r + J^{2} + r^{2}\\right) \\sin^{2}{\\left(\\theta \\right)}}{\\left(J^{2} \\cos^{2}{\\left(\\theta \\right)} + r^{2}\\right)^{3}}$"
      ],
      "text/plain": [
       "G*J*M*(J**2*cos(theta)**2 - r**2)*(-2*G*M*r + J**2 + r**2)*sin(theta)**2/(J**2*cos(theta)**2 + r**2)**3"
      ]
     },
     "metadata": {},
     "output_type": "display_data"
    },
    {
     "data": {
      "text/latex": [
       "$\\displaystyle \\Gamma ^{\\,1}_{\\,\\,3 3}\\;\\;=$"
      ],
      "text/plain": [
       "<IPython.core.display.Math object>"
      ]
     },
     "metadata": {},
     "output_type": "display_data"
    },
    {
     "data": {
      "text/latex": [
       "$\\displaystyle \\frac{\\left(2 G M r - J^{2} - r^{2}\\right) \\left(- 2 G J^{2} M r^{2} \\sin^{2}{\\left(\\theta \\right)} + G J^{2} M \\left(J^{2} \\cos^{2}{\\left(\\theta \\right)} + r^{2}\\right) \\sin^{2}{\\left(\\theta \\right)} + r \\left(J^{2} \\cos^{2}{\\left(\\theta \\right)} + r^{2}\\right)^{2}\\right) \\sin^{2}{\\left(\\theta \\right)}}{\\left(J^{2} \\cos^{2}{\\left(\\theta \\right)} + r^{2}\\right)^{3}}$"
      ],
      "text/plain": [
       "(2*G*M*r - J**2 - r**2)*(-2*G*J**2*M*r**2*sin(theta)**2 + G*J**2*M*(J**2*cos(theta)**2 + r**2)*sin(theta)**2 + r*(J**2*cos(theta)**2 + r**2)**2)*sin(theta)**2/(J**2*cos(theta)**2 + r**2)**3"
      ]
     },
     "metadata": {},
     "output_type": "display_data"
    },
    {
     "data": {
      "text/latex": [
       "$\\displaystyle \\Gamma ^{\\,2}_{\\,\\,0 0}\\;\\;=$"
      ],
      "text/plain": [
       "<IPython.core.display.Math object>"
      ]
     },
     "metadata": {},
     "output_type": "display_data"
    },
    {
     "data": {
      "text/latex": [
       "$\\displaystyle - \\frac{8 G J^{2} M r \\sin{\\left(2 \\theta \\right)}}{\\left(J^{2} \\cos{\\left(2 \\theta \\right)} + J^{2} + 2 r^{2}\\right)^{3}}$"
      ],
      "text/plain": [
       "-8*G*J**2*M*r*sin(2*theta)/(J**2*cos(2*theta) + J**2 + 2*r**2)**3"
      ]
     },
     "metadata": {},
     "output_type": "display_data"
    },
    {
     "data": {
      "text/latex": [
       "$\\displaystyle \\Gamma ^{\\,2}_{\\,\\,1 1}\\;\\;=$"
      ],
      "text/plain": [
       "<IPython.core.display.Math object>"
      ]
     },
     "metadata": {},
     "output_type": "display_data"
    },
    {
     "data": {
      "text/latex": [
       "$\\displaystyle \\frac{J^{2} \\sin{\\left(2 \\theta \\right)}}{\\left(J^{2} \\cos{\\left(2 \\theta \\right)} + J^{2} + 2 r^{2}\\right) \\left(- 2 G M r + J^{2} + r^{2}\\right)}$"
      ],
      "text/plain": [
       "J**2*sin(2*theta)/((J**2*cos(2*theta) + J**2 + 2*r**2)*(-2*G*M*r + J**2 + r**2))"
      ]
     },
     "metadata": {},
     "output_type": "display_data"
    },
    {
     "data": {
      "text/latex": [
       "$\\displaystyle \\Gamma ^{\\,2}_{\\,\\,2 1}\\;\\;=$"
      ],
      "text/plain": [
       "<IPython.core.display.Math object>"
      ]
     },
     "metadata": {},
     "output_type": "display_data"
    },
    {
     "data": {
      "text/latex": [
       "$\\displaystyle \\frac{r}{J^{2} \\cos^{2}{\\left(\\theta \\right)} + r^{2}}$"
      ],
      "text/plain": [
       "r/(J**2*cos(theta)**2 + r**2)"
      ]
     },
     "metadata": {},
     "output_type": "display_data"
    },
    {
     "data": {
      "text/latex": [
       "$\\displaystyle \\Gamma ^{\\,2}_{\\,\\,2 2}\\;\\;=$"
      ],
      "text/plain": [
       "<IPython.core.display.Math object>"
      ]
     },
     "metadata": {},
     "output_type": "display_data"
    },
    {
     "data": {
      "text/latex": [
       "$\\displaystyle - \\frac{J^{2} \\sin{\\left(2 \\theta \\right)}}{J^{2} \\cos{\\left(2 \\theta \\right)} + J^{2} + 2 r^{2}}$"
      ],
      "text/plain": [
       "-J**2*sin(2*theta)/(J**2*cos(2*theta) + J**2 + 2*r**2)"
      ]
     },
     "metadata": {},
     "output_type": "display_data"
    },
    {
     "data": {
      "text/latex": [
       "$\\displaystyle \\Gamma ^{\\,2}_{\\,\\,3 0}\\;\\;=$"
      ],
      "text/plain": [
       "<IPython.core.display.Math object>"
      ]
     },
     "metadata": {},
     "output_type": "display_data"
    },
    {
     "data": {
      "text/latex": [
       "$\\displaystyle \\frac{8 G J M r \\left(J^{2} + r^{2}\\right) \\sin{\\left(2 \\theta \\right)}}{\\left(J^{2} \\cos{\\left(2 \\theta \\right)} + J^{2} + 2 r^{2}\\right)^{3}}$"
      ],
      "text/plain": [
       "8*G*J*M*r*(J**2 + r**2)*sin(2*theta)/(J**2*cos(2*theta) + J**2 + 2*r**2)**3"
      ]
     },
     "metadata": {},
     "output_type": "display_data"
    },
    {
     "data": {
      "text/latex": [
       "$\\displaystyle \\Gamma ^{\\,2}_{\\,\\,3 3}\\;\\;=$"
      ],
      "text/plain": [
       "<IPython.core.display.Math object>"
      ]
     },
     "metadata": {},
     "output_type": "display_data"
    },
    {
     "data": {
      "text/latex": [
       "$\\displaystyle - \\frac{\\left(2 G J^{2} M r \\left(J^{2} + r^{2}\\right) \\sin^{2}{\\left(\\theta \\right)} + \\left(J^{2} \\cos^{2}{\\left(\\theta \\right)} + r^{2}\\right) \\left(2 G J^{2} M r \\sin^{2}{\\left(\\theta \\right)} + \\left(J^{2} + r^{2}\\right) \\left(J^{2} \\cos^{2}{\\left(\\theta \\right)} + r^{2}\\right)\\right)\\right) \\sin{\\left(\\theta \\right)} \\cos{\\left(\\theta \\right)}}{\\left(J^{2} \\cos^{2}{\\left(\\theta \\right)} + r^{2}\\right)^{3}}$"
      ],
      "text/plain": [
       "-(2*G*J**2*M*r*(J**2 + r**2)*sin(theta)**2 + (J**2*cos(theta)**2 + r**2)*(2*G*J**2*M*r*sin(theta)**2 + (J**2 + r**2)*(J**2*cos(theta)**2 + r**2)))*sin(theta)*cos(theta)/(J**2*cos(theta)**2 + r**2)**3"
      ]
     },
     "metadata": {},
     "output_type": "display_data"
    },
    {
     "data": {
      "text/latex": [
       "$\\displaystyle \\Gamma ^{\\,3}_{\\,\\,1 0}\\;\\;=$"
      ],
      "text/plain": [
       "<IPython.core.display.Math object>"
      ]
     },
     "metadata": {},
     "output_type": "display_data"
    },
    {
     "data": {
      "text/latex": [
       "$\\displaystyle \\frac{G J M \\left(- J^{2} \\cos^{2}{\\left(\\theta \\right)} + r^{2}\\right)}{\\left(J^{2} \\cos^{2}{\\left(\\theta \\right)} + r^{2}\\right)^{2} \\left(- 2 G M r + J^{2} + r^{2}\\right)}$"
      ],
      "text/plain": [
       "G*J*M*(-J**2*cos(theta)**2 + r**2)/((J**2*cos(theta)**2 + r**2)**2*(-2*G*M*r + J**2 + r**2))"
      ]
     },
     "metadata": {},
     "output_type": "display_data"
    },
    {
     "data": {
      "text/latex": [
       "$\\displaystyle \\Gamma ^{\\,3}_{\\,\\,2 0}\\;\\;=$"
      ],
      "text/plain": [
       "<IPython.core.display.Math object>"
      ]
     },
     "metadata": {},
     "output_type": "display_data"
    },
    {
     "data": {
      "text/latex": [
       "$\\displaystyle - \\frac{2 G J M r}{\\left(J^{2} \\cos^{2}{\\left(\\theta \\right)} + r^{2}\\right)^{2} \\tan{\\left(\\theta \\right)}}$"
      ],
      "text/plain": [
       "-2*G*J*M*r/((J**2*cos(theta)**2 + r**2)**2*tan(theta))"
      ]
     },
     "metadata": {},
     "output_type": "display_data"
    },
    {
     "data": {
      "text/latex": [
       "$\\displaystyle \\Gamma ^{\\,3}_{\\,\\,3 1}\\;\\;=$"
      ],
      "text/plain": [
       "<IPython.core.display.Math object>"
      ]
     },
     "metadata": {},
     "output_type": "display_data"
    },
    {
     "data": {
      "text/latex": [
       "$\\displaystyle \\frac{- G J^{4} M \\left(1 - \\cos^{2}{\\left(\\theta \\right)}\\right)^{2} - G J^{4} M \\cos^{2}{\\left(\\theta \\right)} + G J^{4} M - G J^{2} M r^{2} \\cos^{2}{\\left(\\theta \\right)} - G J^{2} M r^{2} - 2 G M r^{4} + J^{4} r \\left(1 - \\cos^{2}{\\left(\\theta \\right)}\\right)^{2} + 2 J^{4} r \\cos^{2}{\\left(\\theta \\right)} - J^{4} r + 2 J^{2} r^{3} \\cos^{2}{\\left(\\theta \\right)} + r^{5}}{\\left(J^{2} \\cos^{2}{\\left(\\theta \\right)} + r^{2}\\right)^{2} \\left(- 2 G M r + J^{2} + r^{2}\\right)}$"
      ],
      "text/plain": [
       "(-G*J**4*M*(1 - cos(theta)**2)**2 - G*J**4*M*cos(theta)**2 + G*J**4*M - G*J**2*M*r**2*cos(theta)**2 - G*J**2*M*r**2 - 2*G*M*r**4 + J**4*r*(1 - cos(theta)**2)**2 + 2*J**4*r*cos(theta)**2 - J**4*r + 2*J**2*r**3*cos(theta)**2 + r**5)/((J**2*cos(theta)**2 + r**2)**2*(-2*G*M*r + J**2 + r**2))"
      ]
     },
     "metadata": {},
     "output_type": "display_data"
    },
    {
     "data": {
      "text/latex": [
       "$\\displaystyle \\Gamma ^{\\,3}_{\\,\\,3 2}\\;\\;=$"
      ],
      "text/plain": [
       "<IPython.core.display.Math object>"
      ]
     },
     "metadata": {},
     "output_type": "display_data"
    },
    {
     "data": {
      "text/latex": [
       "$\\displaystyle \\frac{4 G^{2} J^{2} M^{2} r^{2} \\left(J^{2} + r^{2}\\right) \\sin^{2}{\\left(\\theta \\right)} - \\left(2 G J^{2} M r \\left(J^{2} + r^{2}\\right) \\sin^{2}{\\left(\\theta \\right)} + \\left(J^{2} \\cos^{2}{\\left(\\theta \\right)} + r^{2}\\right) \\left(2 G J^{2} M r \\sin^{2}{\\left(\\theta \\right)} + \\left(J^{2} + r^{2}\\right) \\left(J^{2} \\cos^{2}{\\left(\\theta \\right)} + r^{2}\\right)\\right)\\right) \\left(2 G M r - J^{2} \\cos^{2}{\\left(\\theta \\right)} - r^{2}\\right)}{\\left(J^{2} \\cos^{2}{\\left(\\theta \\right)} + r^{2}\\right)^{3} \\left(- 2 G M r + J^{2} + r^{2}\\right) \\tan{\\left(\\theta \\right)}}$"
      ],
      "text/plain": [
       "(4*G**2*J**2*M**2*r**2*(J**2 + r**2)*sin(theta)**2 - (2*G*J**2*M*r*(J**2 + r**2)*sin(theta)**2 + (J**2*cos(theta)**2 + r**2)*(2*G*J**2*M*r*sin(theta)**2 + (J**2 + r**2)*(J**2*cos(theta)**2 + r**2)))*(2*G*M*r - J**2*cos(theta)**2 - r**2))/((J**2*cos(theta)**2 + r**2)**3*(-2*G*M*r + J**2 + r**2)*tan(theta))"
      ]
     },
     "metadata": {},
     "output_type": "display_data"
    }
   ],
   "source": [
    "print('Kerr black hole, the connection :')\n",
    "Print_Connection(gamma_kerr_mixed, style=1)"
   ]
  },
  {
   "cell_type": "code",
   "execution_count": null,
   "metadata": {},
   "outputs": [],
   "source": []
  }
 ],
 "metadata": {
  "kernelspec": {
   "display_name": "Python 3",
   "language": "python",
   "name": "python3"
  },
  "language_info": {
   "codemirror_mode": {
    "name": "ipython",
    "version": 3
   },
   "file_extension": ".py",
   "mimetype": "text/x-python",
   "name": "python",
   "nbconvert_exporter": "python",
   "pygments_lexer": "ipython3",
   "version": "3.7.3"
  }
 },
 "nbformat": 4,
 "nbformat_minor": 2
}
